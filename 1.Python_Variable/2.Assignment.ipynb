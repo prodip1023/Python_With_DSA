{
 "cells": [
  {
   "cell_type": "markdown",
   "metadata": {},
   "source": [
    "# Part 1: Variables and Memory Allocation\n",
    "### Exercise 1.1: Memory Exploration"
   ]
  },
  {
   "cell_type": "markdown",
   "metadata": {},
   "source": [
    "Write a program that demonstrates how variables and memory allocation work in Python. Your program should:\n",
    "1. Create variables of different types (int, float, string, list, tuple).\n",
    "2. Print the ID (memory address) of each variable using the id() function.\n",
    "3. Create a second variable that references the same object as one of your first variables.\n",
    "4. Modify the original variable and observe what happens to the second one (for both\n",
    "mutable and immutable types).\n",
    "5. Include comments explaining the behavior you observe."
   ]
  },
  {
   "cell_type": "code",
   "execution_count": 8,
   "metadata": {},
   "outputs": [
    {
     "name": "stdout",
     "output_type": "stream",
     "text": [
      "This is <class 'int'> type.\n",
      "This is <class 'float'> type.\n",
      "This is <class 'str'> type.\n",
      "This is <class 'list'> type.\n",
      "This is <class 'tuple'> type.\n"
     ]
    }
   ],
   "source": [
    "salary = 1000\n",
    "average = 34.76\n",
    "name = 'prodip'\n",
    "city = ['kolkata','bangalore','mumbai','chennai']\n",
    "country = ('India','Russia','USA','France')\n",
    "\n",
    "print(f\"This is {type(salary)} type.\")\n",
    "print(f\"This is {type(average)} type.\")\n",
    "print(f\"This is {type(name)} type.\")\n",
    "print(f\"This is {type(city)} type.\")\n",
    "print(f\"This is {type(country)} type.\")"
   ]
  },
  {
   "cell_type": "code",
   "execution_count": 9,
   "metadata": {},
   "outputs": [
    {
     "name": "stdout",
     "output_type": "stream",
     "text": [
      "This variable occupied of memory location 140699662094992\n",
      "This variable occupied of memory location 140699662096304\n",
      "This variable occupied of memory location 140699668619440\n",
      "This variable occupied of memory location 140699668436160\n",
      "This variable occupied of memory location 140699668493264\n"
     ]
    }
   ],
   "source": [
    "print(f\"This variable occupied of memory location {id(salary)}\")\n",
    "print(f\"This variable occupied of memory location {id(average)}\")\n",
    "print(f\"This variable occupied of memory location {id(name)}\")\n",
    "print(f\"This variable occupied of memory location {id(city)}\")\n",
    "print(f\"This variable occupied of memory location {id(country)}\")"
   ]
  },
  {
   "cell_type": "code",
   "execution_count": 10,
   "metadata": {},
   "outputs": [
    {
     "data": {
      "text/plain": [
       "True"
      ]
     },
     "execution_count": 10,
     "metadata": {},
     "output_type": "execute_result"
    }
   ],
   "source": [
    "fist_variable = 100\n",
    "second_variable = fist_variable\n",
    "\n",
    "id(fist_variable) == id(second_variable)\n"
   ]
  },
  {
   "cell_type": "code",
   "execution_count": 11,
   "metadata": {},
   "outputs": [
    {
     "name": "stdout",
     "output_type": "stream",
     "text": [
      "\n",
      "Immutable type(integer):\n",
      "a: 20\n",
      "b: 10\n",
      "\n",
      "Mutable type(list):\n",
      "x: [20, 30, 35]\n",
      "y: [20, 30, 35]\n"
     ]
    }
   ],
   "source": [
    "# Imutable int\n",
    "a = 10\n",
    "b = a  # b references the same object as a\n",
    "a = 20 # reassign a to a new value\n",
    "\n",
    "print(\"\\nImmutable type(integer):\")\n",
    "print(\"a:\",a)\n",
    "print(\"b:\",b)\n",
    "\n",
    "# Mutable list\n",
    "x = [20,30,35]\n",
    "y = x\n",
    "\n",
    "print(\"\\nMutable type(list):\")\n",
    "print(\"x:\",x)\n",
    "print(\"y:\",y)\n",
    "\n"
   ]
  },
  {
   "cell_type": "markdown",
   "metadata": {},
   "source": [
    "### Exercise 1.2: Variable Scope Investigation"
   ]
  },
  {
   "cell_type": "markdown",
   "metadata": {},
   "source": [
    "\n",
    "Create a function that demonstrates variable scope in Python:\n",
    "1. Define global variables outside the function.\n",
    "2. Define local variables inside the function with the same names.\n",
    "3. Try to modify a global variable both with and without the global keyword.\n",
    "4. Print the IDs of all variables before and after modifications.\n",
    "5. Explain what happens and why in your comments."
   ]
  },
  {
   "cell_type": "code",
   "execution_count": 12,
   "metadata": {},
   "outputs": [
    {
     "name": "stdout",
     "output_type": "stream",
     "text": [
      "Initial Global Scope:\n",
      "x (global): 10, id: 140699597242896\n",
      "y (global): 20, id: 140699597243216\n",
      "\n",
      "Inside Function - After Local Assignment:\n",
      "x (local): 100, id: 140699597245776\n",
      "y_local (new local): 200, id: 140699597248976\n",
      "\n",
      "Inside Function - After Creating Global z using 'global':\n",
      "z (global): 300, id: 140699668086448\n",
      "\n",
      "Inside Function - After Creating Global x_global using 'global':\n",
      "x_global (global): 999, id: 140699668085168\n",
      "\n",
      "After Function Call - Global Scope:\n",
      "x (global): 10, id: 140699597242896\n",
      "y (global): 20, id: 140699597243216\n",
      "z (global): 300, id: 140699668086448\n",
      "x_global (global): 999, id: 140699668085168\n"
     ]
    }
   ],
   "source": [
    "# Global variables\n",
    "x = 10\n",
    "y = 20\n",
    "\n",
    "print(\"Initial Global Scope:\")\n",
    "print(f\"x (global): {x}, id: {id(x)}\")\n",
    "print(f\"y (global): {y}, id: {id(y)}\\n\")\n",
    "\n",
    "def demonstrate_scope():\n",
    "    # Local variable with same name as global x\n",
    "    x = 100  # Local to function\n",
    "    print(\"Inside Function - After Local Assignment:\")\n",
    "    print(f\"x (local): {x}, id: {id(x)}\")\n",
    "\n",
    "    # Correct way: avoid referencing y before assignment if you're assigning it locally\n",
    "    y_local = 200  # This does NOT affect global y\n",
    "    print(f\"y_local (new local): {y_local}, id: {id(y_local)}\")\n",
    "\n",
    "    # Use global keyword to modify or create global variable\n",
    "    global z\n",
    "    z = 300\n",
    "    print(\"\\nInside Function - After Creating Global z using 'global':\")\n",
    "    print(f\"z (global): {z}, id: {id(z)}\")\n",
    "\n",
    "    global x_global\n",
    "    x_global = 999\n",
    "    print(\"\\nInside Function - After Creating Global x_global using 'global':\")\n",
    "    print(f\"x_global (global): {x_global}, id: {id(x_global)}\")\n",
    "\n",
    "# Call the function\n",
    "demonstrate_scope()\n",
    "\n",
    "print(\"\\nAfter Function Call - Global Scope:\")\n",
    "print(f\"x (global): {x}, id: {id(x)}\")  # Unchanged\n",
    "print(f\"y (global): {y}, id: {id(y)}\")  # Unchanged\n",
    "print(f\"z (global): {z}, id: {id(z)}\")  # Newly created\n",
    "print(f\"x_global (global): {x_global}, id: {id(x_global)}\")  # Newly created\n"
   ]
  },
  {
   "cell_type": "markdown",
   "metadata": {},
   "source": [
    "# Part 2: Data Types and Type Conversion\n",
    "### Exercise 2.1: Type Exploration"
   ]
  },
  {
   "cell_type": "markdown",
   "metadata": {},
   "source": [
    "Create a program that:\n",
    "1. Creates at least one variable of each of these types: int, float, complex, bool, str, and None.\n",
    "2. Uses the type() function to verify the type of each variable.\n",
    "3. Uses isinstance() to check if variables are of specific types.\n",
    "4. Demonstrates at least three examples where Python automatically converts types in\n",
    "expressions.\n",
    "5. Includes comments documenting your observations about type behavior.\n"
   ]
  },
  {
   "cell_type": "code",
   "execution_count": 13,
   "metadata": {},
   "outputs": [
    {
     "name": "stdout",
     "output_type": "stream",
     "text": [
      "This `age` variable <class 'int'> type\n",
      "This `average` variable <class 'float'> type\n",
      "This `complex_var` variable <class 'complex'> type\n",
      "This `data` variable <class 'bool'> type\n",
      "This `name` variable <class 'str'> type\n",
      "This `none_var` variable <class 'NoneType'> type\n"
     ]
    }
   ],
   "source": [
    "age = 34\n",
    "average = 23.22\n",
    "complex_var = 3 + 4j\n",
    "data = True\n",
    "name = \"Prodip\"\n",
    "none_var = None\n",
    "\n",
    "print(f\"This `age` variable {type(age)} type\")\n",
    "print(f\"This `average` variable {type(average)} type\")\n",
    "print(f\"This `complex_var` variable {type(complex_var)} type\")\n",
    "print(f\"This `data` variable {type(data)} type\")\n",
    "print(f\"This `name` variable {type(name)} type\")\n",
    "print(f\"This `none_var` variable {type(none_var)} type\")"
   ]
  },
  {
   "cell_type": "markdown",
   "metadata": {},
   "source": [
    "\n",
    "The `isinstance()` function in Python is used to check if an object is an instance of a particular class or a tuple of classes.\n",
    "- isinstance(object, classinfo)\n",
    "- \n",
    "- 🔍 When to use isinstance()?\n",
    "    * Type-checking before performing operations.\n",
    "    * Validating function arguments.\n",
    "    * Checking class hierarchy during inheritance."
   ]
  },
  {
   "cell_type": "code",
   "execution_count": 17,
   "metadata": {},
   "outputs": [
    {
     "name": "stdout",
     "output_type": "stream",
     "text": [
      "True\n",
      "False\n",
      "True\n",
      "True\n"
     ]
    }
   ],
   "source": [
    "print(isinstance(age,int))\n",
    "print(isinstance(average,int))\n",
    "print(isinstance(average,float))\n",
    "print(isinstance(name,str))"
   ]
  },
  {
   "cell_type": "code",
   "execution_count": 21,
   "metadata": {},
   "outputs": [
    {
     "name": "stdout",
     "output_type": "stream",
     "text": [
      "7.5\n",
      "<class 'float'>\n",
      "4\n",
      "<class 'int'>\n",
      "2.0\n",
      "<class 'float'>\n"
     ]
    }
   ],
   "source": [
    "result = 5 + 2.5  # int + float\n",
    "print(result)     # 7.5\n",
    "print(type(result))  # <class 'float'>\n",
    "\n",
    "result = True + 3  # True is treated as 1\n",
    "print(result)      # 4\n",
    "print(type(result))  # <class 'int'>\n",
    "\n",
    "result = 4 / 2  # int / int\n",
    "print(result)   # 2.0\n",
    "print(type(result))  # <class 'float'>\n"
   ]
  },
  {
   "cell_type": "code",
   "execution_count": 20,
   "metadata": {},
   "outputs": [
    {
     "name": "stdout",
     "output_type": "stream",
     "text": [
      "1000.0\n",
      "36.0\n",
      "36\n",
      "1000\n",
      "('prodip', 'rajul', 'raja', 'karan')\n"
     ]
    }
   ],
   "source": [
    "age = 36\n",
    "salary = '1000'\n",
    "name_list = ['prodip','rahul','raja','karan']\n",
    "print(float(salary))\n",
    "print(float(age))\n",
    "print(str(age))\n",
    "print(int(salary))\n",
    "print(tuple(name_list))"
   ]
  },
  {
   "cell_type": "markdown",
   "metadata": {},
   "source": [
    "### Exercise 2.2: Type Conversion Challenge"
   ]
  },
  {
   "cell_type": "markdown",
   "metadata": {},
   "source": [
    "Write a function that:\n",
    "1. Takes a string input containing a mixture of numbers and text (e.g., \"I am 25 years old and my height is 5.9 feet\").\n",
    "2. Extracts all numbers from the string and converts them to their appropriate numeric types (int or float).\n",
    "3. Returns a tuple containing two lists: one with all integers found and one with all floats found.\n",
    "4. Handles potential conversion errors gracefully.\n"
   ]
  },
  {
   "cell_type": "code",
   "execution_count": null,
   "metadata": {},
   "outputs": [],
   "source": [
    "text = \"i am 25 years old and my height is 5.9 feet\"\n",
    "def extracts_data(text):\n",
    "    split_data = text.split()\n",
    "    for i in range(len(split_data)):\n",
    "        pass\n",
    "                   \n",
    "\n"
   ]
  },
  {
   "cell_type": "markdown",
   "metadata": {},
   "source": [
    "# Part 3: Number Systems and Representation\n",
    "### Exercise 3.1: Base Converter"
   ]
  },
  {
   "cell_type": "markdown",
   "metadata": {},
   "source": [
    "Create a set of functions that:\n",
    "1. Converts decimal integers to binary, octal, and hexadecimal strings without using built-in functions like bin(), oct(), or hex().\n",
    "2. Converts binary, octal, and hexadecimal strings to decimal integers without using int(x, base).\n",
    "3. Demonstrates your functions with at least five different numbers.\n",
    "4. Verifies your results by comparing with Python's built-in conversion functions.\n"
   ]
  },
  {
   "cell_type": "markdown",
   "metadata": {},
   "source": [
    "# Part 4: Floating-Point Precision\n",
    "### Exercise 4.1: Precision Problems"
   ]
  },
  {
   "cell_type": "markdown",
   "metadata": {},
   "source": [
    "Write a program that demonstrates floating-point precision issues:\n",
    "1. Create at least five examples where floating-point arithmetic gives unexpected results.\n",
    "2. For each example, explain why the result occurs.\n",
    "3. Implement a solution to each problem using at least two different approaches (rounding,\n",
    "epsilon comparison, Decimal, Fraction, etc.).\n",
    "4. Compare the accuracy and performance of each solution.\n"
   ]
  },
  {
   "cell_type": "markdown",
   "metadata": {},
   "source": [
    "# Part 5: Deep Dive Modules\n",
    "###  5.1: Math Module Explorer"
   ]
  },
  {
   "cell_type": "markdown",
   "metadata": {},
   "source": [
    "Write a program that explores the capabilities of the math module:\n",
    "1. Use at least 10 different functions from the math module.\n",
    "2. Create practical examples for each function.\n",
    "3. Create a function that calculates the roots of a quadratic equation using math functions.\n",
    "4. Create a function that converts between different angle units (degrees, radians) using\n",
    "math functions.\n",
    "5. Include comments explaining each function and its application."
   ]
  }
 ],
 "metadata": {
  "kernelspec": {
   "display_name": "dsapython",
   "language": "python",
   "name": "python3"
  },
  "language_info": {
   "codemirror_mode": {
    "name": "ipython",
    "version": 3
   },
   "file_extension": ".py",
   "mimetype": "text/x-python",
   "name": "python",
   "nbconvert_exporter": "python",
   "pygments_lexer": "ipython3",
   "version": "3.10.0"
  }
 },
 "nbformat": 4,
 "nbformat_minor": 2
}
